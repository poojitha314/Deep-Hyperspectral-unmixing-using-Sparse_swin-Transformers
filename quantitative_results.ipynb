{
 "cells": [
  {
   "cell_type": "code",
   "execution_count": null,
   "id": "6a9d7f1f",
   "metadata": {},
   "outputs": [],
   "source": []
  },
  {
   "cell_type": "code",
   "execution_count": 1,
   "id": "a90e5910",
   "metadata": {
    "ExecuteTime": {
     "end_time": "2022-01-10T22:33:46.525540Z",
     "start_time": "2022-01-10T22:33:45.222999Z"
    }
   },
   "outputs": [],
   "source": [
    "import numpy as np\n",
    "import scipy.io as sio\n",
    "import matplotlib.pyplot as plt\n",
    "from utils import compute_rmse, compute_sad"
   ]
  },
  {
   "cell_type": "code",
   "execution_count": 2,
   "id": "d8f018a8",
   "metadata": {
    "ExecuteTime": {
     "end_time": "2022-01-10T22:33:46.539607Z",
     "start_time": "2022-01-10T22:33:46.528899Z"
    }
   },
   "outputs": [],
   "source": [
    "dataset = \"Samson\"\n",
    "\n",
    "abd_res_path = f\"./Results/Abundance_{dataset}.mat\"\n",
    "edm_res_path = f\"./Results/Endmembers_{dataset}.mat\"\n",
    "\n",
    "abd_all = sio.loadmat(abd_res_path)\n",
    "edm_all = sio.loadmat(edm_res_path)\n",
    "\n",
    "if dataset == \"DC\":\n",
    "    cols = [\"Methods\", \"Grass\", \"Tree\", \"Road\", \"Roof\", \"Water\", \"Trail\", \"Mean\"]\n",
    "elif dataset == \"Apex\":\n",
    "    cols = [\"Methods\", \"Road\", \"Tree\", \"Roof\", \"Water\", \"Mean\"]\n",
    "elif dataset == \"Samson\":\n",
    "    cols = [\"Methods\", \"Soil\", \"Tree\", \"Water\", \"Mean\"]\n",
    "\n",
    "save_path = f\"./Results/{dataset}_results.txt\""
   ]
  },
  {
   "cell_type": "code",
   "execution_count": 3,
   "id": "275d99e0",
   "metadata": {
    "ExecuteTime": {
     "end_time": "2022-01-10T22:33:46.547307Z",
     "start_time": "2022-01-10T22:33:46.541134Z"
    }
   },
   "outputs": [
    {
     "name": "stdout",
     "output_type": "stream",
     "text": [
      "a_CYCU a_Collab a_FCLSU a_NMF a_UnDIP a_uDAS a_Tra\n"
     ]
    }
   ],
   "source": [
    "abd_keys = []\n",
    "for key in abd_all:\n",
    "    if key[0] == 'a':\n",
    "        abd_keys.append(key)\n",
    "abd_keys.remove('a_GT')\n",
    "print(*abd_keys)"
   ]
  },
  {
   "cell_type": "code",
   "execution_count": 4,
   "id": "d075b265",
   "metadata": {
    "ExecuteTime": {
     "end_time": "2022-01-10T22:33:47.055858Z",
     "start_time": "2022-01-10T22:33:47.046688Z"
    }
   },
   "outputs": [],
   "source": [
    "gt_abd = abd_all[\"a_GT\"]\n",
    "data = []\n",
    "for key in abd_keys:\n",
    "    abu_est = abd_all[key]\n",
    "    cls_rmse, mean_rmse = compute_rmse(gt_abd, abu_est)\n",
    "    cls_rmse = [round(x, 4) for x in cls_rmse]\n",
    "    mean_rmse = round(mean_rmse, 4)\n",
    "    data.append([key, *cls_rmse, mean_rmse])"
   ]
  },
  {
   "cell_type": "code",
   "execution_count": 5,
   "id": "afc3c24f",
   "metadata": {
    "ExecuteTime": {
     "end_time": "2022-01-10T22:33:47.886876Z",
     "start_time": "2022-01-10T22:33:47.879451Z"
    }
   },
   "outputs": [],
   "source": [
    "row_format =\"{:>10}\" * (len(cols))\n",
    "with open(save_path, 'w') as file:\n",
    "    file.write(\"RMSE values:\\n\\n\")\n",
    "    file.write(row_format.format(*cols))\n",
    "    file.write(\"\\n\")\n",
    "    for val in data:\n",
    "        file.write(row_format.format(*val))\n",
    "        file.write(\"\\n\")\n",
    "    file.write(\"=\" * 100)\n",
    "    file.write(\"\\n\\n\")"
   ]
  },
  {
   "cell_type": "code",
   "execution_count": 6,
   "id": "7cc61c13",
   "metadata": {
    "ExecuteTime": {
     "end_time": "2022-01-10T22:33:49.559686Z",
     "start_time": "2022-01-10T22:33:49.553691Z"
    }
   },
   "outputs": [
    {
     "name": "stdout",
     "output_type": "stream",
     "text": [
      "E_CYCU E_Coll E_NMF E_SiVM E_VCA E_uDAS E_Tra\n"
     ]
    }
   ],
   "source": [
    "edm_keys = []\n",
    "for key in edm_all:\n",
    "    if key[0] == 'E':\n",
    "        edm_keys.append(key)\n",
    "edm_keys.remove('E_GT')\n",
    "print(*edm_keys)"
   ]
  },
  {
   "cell_type": "code",
   "execution_count": 7,
   "id": "3969abe1",
   "metadata": {
    "ExecuteTime": {
     "end_time": "2022-01-10T22:33:50.379683Z",
     "start_time": "2022-01-10T22:33:50.372318Z"
    }
   },
   "outputs": [],
   "source": [
    "edm_gt = edm_all[\"E_GT\"]\n",
    "data = []\n",
    "for key in edm_keys:\n",
    "    sad_cls, mean_sad = compute_sad(edm_all[key], edm_gt)\n",
    "    sad_cls = [round(x, 4) for x in sad_cls]\n",
    "    mean_sad = round(mean_sad, 4)\n",
    "    data.append([key, *sad_cls, mean_sad])"
   ]
  },
  {
   "cell_type": "code",
   "execution_count": 8,
   "id": "fb7d1de2",
   "metadata": {
    "ExecuteTime": {
     "end_time": "2022-01-10T22:33:53.294698Z",
     "start_time": "2022-01-10T22:33:53.288472Z"
    }
   },
   "outputs": [],
   "source": [
    "row_format =\"{:>10}\" * (len(cols))\n",
    "with open(save_path, 'a') as file:\n",
    "    file.write(\"SAD values:\\n\\n\")\n",
    "    file.write(row_format.format(*cols))\n",
    "    file.write(\"\\n\")\n",
    "    for val in data:\n",
    "        file.write(row_format.format(*val))\n",
    "        file.write(\"\\n\")\n",
    "    file.write(\"=\" * 100)"
   ]
  }
 ],
 "metadata": {
  "kernelspec": {
   "display_name": "Python 3",
   "language": "python",
   "name": "python3"
  },
  "language_info": {
   "codemirror_mode": {
    "name": "ipython",
    "version": 3
   },
   "file_extension": ".py",
   "mimetype": "text/x-python",
   "name": "python",
   "nbconvert_exporter": "python",
   "pygments_lexer": "ipython3",
   "version": "3.12.2"
  }
 },
 "nbformat": 4,
 "nbformat_minor": 5
}
